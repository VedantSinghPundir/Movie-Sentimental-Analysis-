{
 "cells": [
  {
   "cell_type": "code",
   "execution_count": 1,
   "id": "5367287b",
   "metadata": {},
   "outputs": [],
   "source": [
    "import tkinter as tk\n",
    "from tkinter import ttk, messagebox\n",
    "import pickle\n",
    "\n",
    "class SentimentAnalysisApp:\n",
    "    def __init__(self, root):\n",
    "        self.root = root\n",
    "        self.root.title(\"Sentiment Analysis App\")\n",
    "        self.label = ttk.Label(root, text=\"Enter Movie Review:\")\n",
    "        self.label.pack(pady=10)\n",
    "        self.review_entry = ttk.Entry(root, width=50)\n",
    "        self.review_entry.pack(pady=10)\n",
    "        self.analyze_button = ttk.Button(root, text=\"Analyze\", command=self.analyze_review)\n",
    "        self.analyze_button.pack(pady=10)\n",
    "\n",
    "    def analyze_review(self):\n",
    "        review = self.review_entry.get()\n",
    "        if not review:\n",
    "            messagebox.showerror(\"Error\", \"Please enter a movie review.\")\n",
    "            return\n",
    "\n",
    "        try:\n",
    "            result = test_model(review)\n",
    "            messagebox.showinfo(\"Result\", f\"The sentiment of the review is: {result}\")\n",
    "        except Exception as e:\n",
    "            messagebox.showerror(\"Error\", f\"An error occurred: {str(e)}\")\n",
    "\n",
    "def test_model(sentence):\n",
    "    \n",
    "    saved_cv = pickle.load(open('count-vectorizer.pkl', 'rb'))\n",
    "\n",
    "    sen = saved_cv.transform([sentence]).toarray()\n",
    "\n",
    "    res = model.predict(sen)[0]\n",
    "\n",
    "    if res == 1:\n",
    "        return \"Positive review\"\n",
    "    else:\n",
    "        return \"Negative review\"\n",
    "\n",
    "if __name__ == \"__main__\":\n",
    "    save_cv = pickle.load(open('count-vectorizer.pkl', 'rb'))\n",
    "    model = pickle.load(open('Movies_Review_Classification.pkl', 'rb'))\n",
    "\n",
    "    root = tk.Tk()\n",
    "    app = SentimentAnalysisApp(root)\n",
    "\n",
    "    root.mainloop()\n"
   ]
  }
 ],
 "metadata": {
  "kernelspec": {
   "display_name": "Python 3 (ipykernel)",
   "language": "python",
   "name": "python3"
  },
  "language_info": {
   "codemirror_mode": {
    "name": "ipython",
    "version": 3
   },
   "file_extension": ".py",
   "mimetype": "text/x-python",
   "name": "python",
   "nbconvert_exporter": "python",
   "pygments_lexer": "ipython3",
   "version": "3.11.5"
  }
 },
 "nbformat": 4,
 "nbformat_minor": 5
}
